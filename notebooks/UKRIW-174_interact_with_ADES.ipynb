{
 "cells": [
  {
   "cell_type": "markdown",
   "id": "c8d666cf26e0ca55",
   "metadata": {},
   "source": [
    "# Demonstrate ADES Execution for OGC Application Packages\n",
    "This notebook runs through some example API calls to the ADES (Application, Deployment Execution Service) component of the EODH Platform"
   ]
  },
  {
   "cell_type": "code",
   "execution_count": null,
   "id": "d22bbf8b-67e2-4116-9047-7ac822349983",
   "metadata": {},
   "outputs": [],
   "source": [
    "from __future__ import annotations\n",
    "\n",
    "!pip install urllib3"
   ]
  },
  {
   "cell_type": "code",
   "execution_count": null,
   "id": "7fb27b941602401d91542211134fc71a",
   "metadata": {},
   "outputs": [],
   "source": [
    "!pip install python-dotenv"
   ]
  },
  {
   "cell_type": "code",
   "execution_count": null,
   "id": "43579c18-97f5-4c72-83b2-08093a5354d5",
   "metadata": {},
   "outputs": [],
   "source": [
    "import json\n",
    "import time\n",
    "\n",
    "import urllib3\n",
    "\n",
    "http = urllib3.PoolManager(cert_reqs=\"CERT_NONE\")\n",
    "urllib3.disable_warnings()  # to avoid SSL warnings"
   ]
  },
  {
   "cell_type": "code",
   "execution_count": null,
   "id": "8ae51cdd-0237-4326-a4d0-4e07247a42a0",
   "metadata": {},
   "outputs": [],
   "source": [
    "# Define text colour for later output\n",
    "class bcolors:\n",
    "    OKBLUE = \"\\033[94m\"\n",
    "    OKGREEN = \"\\033[92m\"\n",
    "    WARNING = \"\\033[93m\"\n",
    "    ENDC = \"\\033[0m\""
   ]
  },
  {
   "cell_type": "code",
   "execution_count": null,
   "id": "1029d684-bd93-4da1-853b-4e15e17c2370",
   "metadata": {},
   "outputs": [],
   "source": [
    "# Place your username and password here\n",
    "\n",
    "\n",
    "workspace = \"jakubstaszel\"\n",
    "\n",
    "# Update these variables as required to identify the running ades instance and specify workspace name\n",
    "# If the workspace does not yet exect, it will be created by the ades automatically\n",
    "ades_endpoint = \"test.eodatahub.org.uk/ades\"\n",
    "user = \"jakubstaszel\""
   ]
  },
  {
   "cell_type": "markdown",
   "id": "6e39315c6b26d4fc",
   "metadata": {},
   "source": [
    "## Additional process from Spyrosoft\n",
    "raster-calculate is an example tool developed to make sure we are able to integrate with ADES. The rest of the code comes from the team developing ADES.\n",
    "\n",
    "## Below are some example API requests you can make to the ADES component\n",
    "Feel free to run these examples and change the inputs by specifying the application packages, process name and process inputs.\n",
    "All outputs can be found in the S3 bucket [eodhp-ades](https://s3.console.aws.amazon.com/s3/buckets/eodhp-ades?region=eu-west-2&bucketType=general&tab=objects).\n",
    "\n",
    "As an example we provide three EOEPCA-developed OGC Application Package to demonstrate the successful execution using the ADES deployment:\n",
    "- [convert-url](https://github.com/EOEPCA/convert/blob/main/convert-url-app.cwl) - take an image specified by a URL and resize it by a given scale percentage\n",
    "- [convert-stac](https://github.com/EOEPCA/convert/blob/main/convert-stac-app.cwl) - take an image specified by a stac item and resize it by a given scale percentage\n",
    "- [water-bodies](https://github.com/EOEPCA/deployment-guide/blob/main/deploy/samples/requests/processing/water-bodies-app.cwl) - takes STAC items, area of interest, epsg definition and set of bands and identifies water bodies based on NDWI and Otsu threshold\n",
    "\n",
    "This application is specified by configuring the below variable"
   ]
  },
  {
   "cell_type": "code",
   "execution_count": null,
   "id": "032d4055-0724-4fd5-aac9-a1a96ed9de94",
   "metadata": {},
   "outputs": [],
   "source": [
    "process_to_be_run = \"raster-calculate\""
   ]
  },
  {
   "cell_type": "code",
   "execution_count": null,
   "id": "881bbcf8-8a74-4616-b5f0-2671133cc009",
   "metadata": {
    "ExecuteTime": {
     "end_time": "2024-08-22T12:36:05.602365Z",
     "start_time": "2024-08-22T12:36:05.598688Z"
    }
   },
   "outputs": [],
   "source": [
    "# Automated configuration of CWL script location, process name and inputs\n",
    "if process_to_be_run == \"raster-calculate\":\n",
    "    cwl_location = \"https://raw.githubusercontent.com/EO-DataHub/eodh-workflows/main/cwl_files/raster-calculate-app.cwl\"\n",
    "    process_name = \"raster-calculate\"\n",
    "    inputs_dict = {\n",
    "        \"inputs\": {\n",
    "            \"workspace\": workspace,\n",
    "            \"stac_collection\": \"sentinel-2-l2a\",\n",
    "            \"aoi\": '{\"type\": \"Polygon\",\"coordinates\": [[[14.763294437090849, 50.833598186651244],[15.052268923898112, 50.833598186651244],[15.052268923898112, 50.989077215056824],[14.763294437090849, 50.989077215056824],[14.763294437090849, 50.833598186651244]]]}',\n",
    "            \"date_start\": \"2024-04-03\",\n",
    "            \"date_end\": \"2024-08-01\",\n",
    "            \"index\": \"ndvi\",\n",
    "        }\n",
    "    }\n",
    "elif process_to_be_run == \"convert-url\":\n",
    "    process_name = \"convert-url\"\n",
    "    cwl_location = \"https://raw.githubusercontent.com/EOEPCA/deployment-guide/main/deploy/samples/requests/processing/convert-url-app.cwl\"\n",
    "    inputs_dict = {\n",
    "        \"inputs\": {\n",
    "            \"workspace\": workspace,\n",
    "            \"fn\": \"resize\",\n",
    "            \"url\": \"https://eoepca.org/media_portal/images/logo6_med.original.png\",\n",
    "            \"size\": \"50%\",\n",
    "        }\n",
    "    }\n",
    "elif process_to_be_run == \"convert-stac\":\n",
    "    process_name = \"convert-stac\"\n",
    "    cwl_location = \"https://raw.githubusercontent.com/EOEPCA/deployment-guide/main/deploy/samples/requests/processing/convert-stac-app.cwl\"\n",
    "    inputs_dict = {\n",
    "        \"inputs\": {\n",
    "            \"workspace\": workspace,\n",
    "            \"fn\": \"resize\",\n",
    "            \"stac\": \"https://raw.githubusercontent.com/EOEPCA/convert/main/stac/eoepca-logo.json\",\n",
    "            \"size\": \"50%\",\n",
    "        }\n",
    "    }\n",
    "\n",
    "elif process_to_be_run == \"water-bodies\":\n",
    "    process_name = \"water-bodies\"\n",
    "    cwl_location = \"https://raw.githubusercontent.com/EOEPCA/deployment-guide/main/deploy/samples/requests/processing/water-bodies-app.cwl\"\n",
    "    inputs_dict = {\n",
    "        \"inputs\": {\n",
    "            \"workspace\": workspace,\n",
    "            \"stac_items\": [\n",
    "                \"https://test.eodatahub.org.uk/catalogue-data/element84-data/collections/sentinel-2-c1-l2a/items/S2B_T42MVU_20240319T054135_L2A.json\"\n",
    "            ],\n",
    "            \"aoi\": \"68.09, -6.42, 69.09, -5.43\",\n",
    "            \"epsg\": \"EPSG:4326\",\n",
    "            \"bands\": [\"green\", \"nir\"],\n",
    "        }\n",
    "    }\n",
    "\n",
    "else:\n",
    "    raise ValueError(\n",
    "        f\"unknown process: {process_to_be_run}\",\n",
    "    )"
   ]
  },
  {
   "cell_type": "markdown",
   "id": "a10fef5d8872bc42",
   "metadata": {},
   "source": [
    "### List processes"
   ]
  },
  {
   "cell_type": "code",
   "execution_count": null,
   "id": "d54eddacf7bd35df",
   "metadata": {
    "ExecuteTime": {
     "end_time": "2024-08-22T12:15:47.229807Z",
     "start_time": "2024-08-22T12:15:42.659932Z"
    }
   },
   "outputs": [],
   "source": [
    "import os\n",
    "from urllib.parse import urljoin\n",
    "\n",
    "import requests\n",
    "from dotenv import load_dotenv\n",
    "\n",
    "load_dotenv()\n",
    "\n",
    "PLATFORM_URL = os.environ.get(\"KEYCLOAK_URL\", default=\"https://test.eodatahub.org.uk/\")\n",
    "KEYCLOAK_REALM = os.environ.get(\"KEYCLOAK_REALM\", default=\"eodhp\")\n",
    "CLIENT_ID = os.environ.get(\"CLIENT_ID\", default=None)\n",
    "CLIENT_SECRET = os.environ.get(\"CLIENT_SECRET\", default=None)\n",
    "USERNAME = os.environ.get(\"PORTAL_USERNAME\", default=None)\n",
    "PASSWORD = os.environ.get(\"PORTAL_PASSWORD\", default=None)\n",
    "HEADERS = {\"Content-Type\": \"application/x-www-form-urlencoded\"}\n",
    "\n",
    "TOKEN_URL = urljoin(\n",
    "    PLATFORM_URL,\n",
    "    f\"/keycloak/realms/{KEYCLOAK_REALM}/protocol/openid-connect/token\",\n",
    ")\n",
    "\n",
    "\n",
    "def get_refresh_token() -> str:\n",
    "    response = requests.post(\n",
    "        TOKEN_URL,\n",
    "        headers=HEADERS,\n",
    "        data={\n",
    "            \"client_id\": CLIENT_ID,\n",
    "            \"client_secret\": CLIENT_SECRET,\n",
    "            \"username\": USERNAME,\n",
    "            \"password\": PASSWORD,\n",
    "            \"grant_type\": \"password\",\n",
    "            \"scope\": \"offline_access\",\n",
    "        },\n",
    "    )\n",
    "    if response.ok:\n",
    "        return response.json()[\"refresh_token\"]\n",
    "    raise Exception(\"Failed to get offline refresh token: %s\", response.json())\n",
    "\n",
    "\n",
    "def get_access_token(refresh_token: str) -> str:\n",
    "    response = requests.post(\n",
    "        TOKEN_URL,\n",
    "        headers=HEADERS,\n",
    "        data={\n",
    "            \"client_id\": CLIENT_ID,\n",
    "            \"client_secret\": CLIENT_SECRET,\n",
    "            \"refresh_token\": refresh_token,\n",
    "            \"grant_type\": \"refresh_token\",\n",
    "            \"scope\": \"offline_access\",\n",
    "        },\n",
    "    )\n",
    "    if response.ok:\n",
    "        return response.json()[\"access_token\"]\n",
    "    print(response.json())\n",
    "    Exception(\"Failed to get user access token: %s\", response.json())\n",
    "\n",
    "\n",
    "def check_token(token: str) -> dict:\n",
    "    response = requests.post(\n",
    "        TOKEN_URL + \"/introspect\",\n",
    "        headers=HEADERS,\n",
    "        data={\n",
    "            \"client_id\": CLIENT_ID,\n",
    "            \"client_secret\": CLIENT_SECRET,\n",
    "            \"token\": token,\n",
    "        },\n",
    "    )\n",
    "    if response.ok:\n",
    "        return response.json()\n",
    "    Exception(\"Failed to check token: %s\", response.json())\n",
    "\n",
    "\n",
    "def test_token(token: str) -> bool:\n",
    "    url = urljoin(PLATFORM_URL, \"/api/demo/execute\")\n",
    "    response = requests.get(url, headers={\"Authorization\": f\"Bearer {token}\"})\n",
    "\n",
    "    return 200 <= response.status_code < 300\n",
    "\n",
    "\n",
    "refresh_token = get_refresh_token()\n",
    "access_token = get_access_token(refresh_token)\n",
    "token_status = check_token(access_token)\n",
    "\n",
    "print(f\"Refresh token: {refresh_token}\\n\")\n",
    "print(f\"Access token: {access_token}\\n\")\n",
    "print(\n",
    "    f\"Token status: {json.dumps(token_status, indent=2)}\\n\",\n",
    ")\n",
    "\n",
    "if test_token(access_token):\n",
    "    print(\"Test SUCCESS\")\n",
    "else:\n",
    "    print(\"Test FAILED\")"
   ]
  },
  {
   "cell_type": "code",
   "execution_count": null,
   "id": "a43afaf3-3cb0-4778-a03c-be4981919476",
   "metadata": {
    "ExecuteTime": {
     "end_time": "2024-08-22T12:18:04.881989Z",
     "start_time": "2024-08-22T12:17:59.623949Z"
    }
   },
   "outputs": [],
   "source": [
    "url = f\"https://{ades_endpoint}/{user}/ogc-api/processes\"\n",
    "headers = {\"Accept\": \"application/json\"}\n",
    "auth_dict = {\n",
    "    \"Authorization\": f\"Bearer {access_token}\",\n",
    "}\n",
    "headers.update(auth_dict)\n",
    "response = http.request(\"GET\", url, headers=headers)\n",
    "json.loads(response.data)"
   ]
  },
  {
   "cell_type": "markdown",
   "id": "987245afa42e0d40",
   "metadata": {},
   "source": [
    "### Undeploy/Delete process"
   ]
  },
  {
   "cell_type": "code",
   "execution_count": null,
   "id": "7764a414-ef11-4bde-a079-dcbb97ff746a",
   "metadata": {
    "ExecuteTime": {
     "end_time": "2024-08-22T12:37:17.392824Z",
     "start_time": "2024-08-22T12:37:16.673916Z"
    }
   },
   "outputs": [],
   "source": [
    "# Here a 204 response means the process was remove successfully, no other content is returned\n",
    "url = f\"https://{ades_endpoint}/{user}/ogc-api/processes/{process_name}\"\n",
    "headers = {\"Accept\": \"application/json\"}\n",
    "headers.update(auth_dict)\n",
    "response = http.request(\"DELETE\", url, headers=headers)\n",
    "response.status"
   ]
  },
  {
   "cell_type": "markdown",
   "id": "441d1a6f3be96119",
   "metadata": {},
   "source": [
    "### Deploy processes"
   ]
  },
  {
   "cell_type": "code",
   "execution_count": null,
   "id": "4c3f7811-e73f-4ca1-9ef4-78962f9f916a",
   "metadata": {
    "ExecuteTime": {
     "end_time": "2024-08-22T12:36:21.072390Z",
     "start_time": "2024-08-22T12:36:18.941041Z"
    }
   },
   "outputs": [],
   "source": [
    "url = f\"https://{ades_endpoint}/{user}/ogc-api/processes\"\n",
    "headers = {\"Accept\": \"application/json\", \"Content-Type\": \"application/json\"}\n",
    "headers.update(auth_dict)\n",
    "params = {\"executionUnit\": {\"href\": cwl_location, \"type\": \"application/cwl\"}}\n",
    "response = http.request(\"POST\", url, headers=headers, body=json.dumps(params))\n",
    "deployStatus = response.headers[\"Location\"]\n",
    "json.loads(response.data)"
   ]
  },
  {
   "cell_type": "markdown",
   "id": "e8af053f497f7787",
   "metadata": {},
   "source": [
    "### Get deploy status"
   ]
  },
  {
   "cell_type": "code",
   "execution_count": null,
   "id": "c2582e0a-b05f-4e0a-a1e4-43e385421c9e",
   "metadata": {
    "ExecuteTime": {
     "end_time": "2024-08-22T12:37:28.105040Z",
     "start_time": "2024-08-22T12:37:27.619509Z"
    }
   },
   "outputs": [],
   "source": [
    "url = f\"{deployStatus}\"\n",
    "headers = {\"Accept\": \"application/json\"}\n",
    "headers.update(auth_dict)\n",
    "response = http.request(\"GET\", url, headers=headers)\n",
    "json.loads(response.data)"
   ]
  },
  {
   "cell_type": "markdown",
   "id": "797096d6-fa56-4457-a00c-41782e71b86b",
   "metadata": {},
   "source": [
    "### Get process details"
   ]
  },
  {
   "cell_type": "code",
   "execution_count": null,
   "id": "6bdfe9e5-cce4-459c-bd8b-8ea9b346c5c0",
   "metadata": {},
   "outputs": [],
   "source": [
    "url = f\"https://{ades_endpoint}/{user}/ogc-api/processes/{process_name}\"\n",
    "headers = {\"Accept\": \"application/json\"}\n",
    "headers.update(auth_dict)\n",
    "response = http.request(\"GET\", url, headers=headers)\n",
    "json.loads(response.data)"
   ]
  },
  {
   "cell_type": "markdown",
   "id": "68d5af43-8025-4b63-b576-c7b2dfb6f4cb",
   "metadata": {},
   "source": [
    "### Execute process"
   ]
  },
  {
   "cell_type": "code",
   "execution_count": null,
   "id": "67bae0a8-3adb-4d70-8911-cdc65c10cfc5",
   "metadata": {},
   "outputs": [],
   "source": [
    "url = f\"https://{ades_endpoint}/{user}/ogc-api/processes/{process_name}/execution\"\n",
    "headers = {\"Accept\": \"application/json\", \"Content-Type\": \"application/json\", \"Prefer\": \"respond-async\"}\n",
    "headers.update(auth_dict)\n",
    "params = {**inputs_dict}\n",
    "print(json.dumps(params))\n",
    "time.sleep(5)\n",
    "response = http.request(\"POST\", url, headers=headers, body=json.dumps(params))\n",
    "executeStatus = response.headers[\"Location\"]\n",
    "json.loads(response.data)"
   ]
  },
  {
   "cell_type": "markdown",
   "id": "7f5696ce-f6fe-4811-9762-da23cdb596bc",
   "metadata": {},
   "source": [
    "### Get execute status\n",
    "See the following section to continually poll this function instead to determine once complete"
   ]
  },
  {
   "cell_type": "code",
   "execution_count": null,
   "id": "d15329a7-07a8-46e8-bbb3-a73f6d86b55c",
   "metadata": {},
   "outputs": [],
   "source": [
    "url = f\"{executeStatus}\"\n",
    "headers = {\"Accept\": \"application/json\"}\n",
    "headers.update(auth_dict)\n",
    "params = {}\n",
    "# time.sleep(5)\n",
    "response = http.request(\"GET\", url, headers=headers)\n",
    "json.loads(response.data)"
   ]
  },
  {
   "cell_type": "markdown",
   "id": "381b12ba-a9bc-443f-b8d8-cf8f05d55563",
   "metadata": {},
   "source": [
    "### Get execute status (continuous polling)\n",
    "Run this cell to keep polling the ExecuteStatus endpoint to determine when the process has finished running and also see it's final status: *SUCCESS* or *FAILED*"
   ]
  },
  {
   "cell_type": "code",
   "execution_count": null,
   "id": "7917701a-9a07-44ee-946f-571258a0828c",
   "metadata": {},
   "outputs": [],
   "source": [
    "url = f\"{executeStatus}\"\n",
    "headers = {\"Accept\": \"application/json\"}\n",
    "headers.update(auth_dict)\n",
    "response = http.request(\"GET\", url, headers=headers)\n",
    "data = json.loads(response.data)\n",
    "status = data[\"status\"]\n",
    "message = data[\"message\"]\n",
    "print(\"Status is \" + bcolors.OKBLUE + status.upper() + bcolors.ENDC)\n",
    "print(\"Message is \" + \"\\033[1m\" + message + \"\\033[0m\", end=\"\")\n",
    "old_message = message\n",
    "old_status = status\n",
    "\n",
    "while status == \"running\":\n",
    "    time.sleep(2)\n",
    "    response = http.request(\"GET\", url, headers=headers)\n",
    "    data = json.loads(response.data)\n",
    "    status = data[\"status\"]\n",
    "    message = data[\"message\"]\n",
    "    if status != old_status:\n",
    "        print(\"\\n\")\n",
    "        print(\"Status is \" + bcolors.OKBLUE + status.upper() + bcolors.ENDC)\n",
    "        print(\"Message is \" + \"\\033[1m\" + message + \"\\033[0m\", end=\"\")\n",
    "    elif message != old_message:\n",
    "        print(\".\")\n",
    "        print(\"Message is \" + \"\\033[1m\" + message + \"\\033[0m\", end=\"\")\n",
    "    else:\n",
    "        print(\".\", end=\"\")\n",
    "    old_message = message\n",
    "    old_status = status\n",
    "\n",
    "if status == \"successful\":\n",
    "    print(\"\\n\")\n",
    "    print(bcolors.OKGREEN + \"SUCCESS\" + bcolors.ENDC)\n",
    "\n",
    "if status == \"failed\":\n",
    "    print(bcolors.WARNING + \"FAILED\" + bcolors.ENDC)"
   ]
  },
  {
   "cell_type": "markdown",
   "id": "e8927829-7ecc-448e-b65e-01a6855a7cb2",
   "metadata": {},
   "source": [
    "### Get processing results"
   ]
  },
  {
   "cell_type": "code",
   "execution_count": null,
   "id": "c7a11be6-bf48-4229-9cb8-416b5fcafed5",
   "metadata": {},
   "outputs": [],
   "source": [
    "# Note, this will return a 500 response when no output is produced\n",
    "url = f\"{executeStatus}/results\"\n",
    "headers = {\"Accept\": \"application/json\"}\n",
    "headers.update(auth_dict)\n",
    "params = {}\n",
    "response = http.request(\"GET\", url, headers=headers)\n",
    "json.loads(response.data)"
   ]
  },
  {
   "cell_type": "markdown",
   "id": "4680016d-6f5b-47a1-878c-657100e43b16",
   "metadata": {},
   "source": [
    "### List jobs"
   ]
  },
  {
   "cell_type": "code",
   "execution_count": null,
   "id": "2ff9c681-fcb4-47ae-b387-33868313fc66",
   "metadata": {},
   "outputs": [],
   "source": [
    "url = f\"https://{ades_endpoint}/{user}/ogc-api/jobs\"\n",
    "headers = {\"Accept\": \"application/json\"}\n",
    "headers.update(auth_dict)\n",
    "response = http.request(\"GET\", url, headers=headers)\n",
    "json.loads(response.data)"
   ]
  },
  {
   "cell_type": "markdown",
   "id": "afdaf4c0-9f38-4a70-bedf-4d0f8f37af1c",
   "metadata": {},
   "source": [
    "### Undeploy/Delete process"
   ]
  },
  {
   "cell_type": "code",
   "execution_count": null,
   "id": "8f8537dd-d0f8-4916-aae7-6d46f1a48d2f",
   "metadata": {},
   "outputs": [],
   "source": [
    "# Here a 204 response means the process was remove successfully, no other content is returned\n",
    "url = f\"https://{ades_endpoint}/{user}/ogc-api/processes/water-bodies\"\n",
    "headers = {\"Accept\": \"application/json\"}\n",
    "headers.update(auth_dict)\n",
    "response = http.request(\"DELETE\", url, headers=headers)\n",
    "response.status"
   ]
  }
 ],
 "metadata": {
  "kernelspec": {
   "display_name": "Python 3 (ipykernel)",
   "language": "python",
   "name": "python3"
  },
  "language_info": {
   "codemirror_mode": {
    "name": "ipython",
    "version": 3
   },
   "file_extension": ".py",
   "mimetype": "text/x-python",
   "name": "python",
   "nbconvert_exporter": "python",
   "pygments_lexer": "ipython3",
   "version": "3.11.9"
  }
 },
 "nbformat": 4,
 "nbformat_minor": 5
}
